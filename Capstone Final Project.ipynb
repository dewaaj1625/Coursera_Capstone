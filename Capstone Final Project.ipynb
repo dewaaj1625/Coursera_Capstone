{
 "cells": [
  {
   "cell_type": "markdown",
   "metadata": {},
   "source": [
    "# **Capstone Final Project: Battle of the Neighborhoods**"
   ]
  },
  {
   "cell_type": "markdown",
   "metadata": {},
   "source": [
    "## Introduction/Business Problem"
   ]
  },
  {
   "cell_type": "markdown",
   "metadata": {},
   "source": [
    "Portland Oregon is home to over 50 craft breweries in the city and 84 total in the metro area, approximately 9 breweries per 50,000 people. That is a lot of breweries. How do you know which brewery to visit? What if you want to visit a few breweries and not worry about driving? An eco friendly, net-zero carbon brewery tasting shuttle bike tour is the answer!\n",
    "The tasting shuttle bike tour will guide guests throughout the neighborhood of choice stopping at 5 breweries allowing guests to try a sample flight at each brewery. \n",
    "This study will analyze the neighborhoods in Portland, Oregon to determine the best areas to open up a brewery tasting tour shuttle. Craft breweries are a very popular tourist attraction and at an all time high in popularity in the USA. People from all over the spectrum gather at breweries to indulge, relax, and create a welcoming community. Millenials, to Gen Z, and even baby boomers enjoy craft beer and would use a service like the shuttle bike. "
   ]
  },
  {
   "cell_type": "markdown",
   "metadata": {},
   "source": []
  },
  {
   "cell_type": "markdown",
   "metadata": {},
   "source": [
    "## Data"
   ]
  },
  {
   "cell_type": "markdown",
   "metadata": {},
   "source": [
    "Portland, Oregon city data will be imported to a dataframe from a postal code data set. This will provide the borough, neighborhood postal codes, and location coordinates. Any incomplete data will be removed from the data frame.\n",
    "\n",
    "Foursquare will be used to get information on the neighborhoods, more specifically the breweries in the neighborhoods. The venue info like popularity and ratings will help to determine the best spots to open a shuttle bike tour. Location of the breweries in the neighborhoods will be clustered based on k nearest neighbor algorithm. The brewery clusters do not have to contain breweries all from the same neighborhood. There could be 2 breweries next to each other but in different neighborhoods so it would not make sense to put them in separate tours. Each brewery cluster will be a tour offered by the company. "
   ]
  },
  {
   "cell_type": "code",
   "execution_count": null,
   "metadata": {},
   "outputs": [],
   "source": []
  }
 ],
 "metadata": {
  "kernelspec": {
   "display_name": "Python",
   "language": "python",
   "name": "conda-env-python-py"
  },
  "language_info": {
   "codemirror_mode": {
    "name": "ipython",
    "version": 3
   },
   "file_extension": ".py",
   "mimetype": "text/x-python",
   "name": "python",
   "nbconvert_exporter": "python",
   "pygments_lexer": "ipython3",
   "version": "3.6.12"
  }
 },
 "nbformat": 4,
 "nbformat_minor": 4
}
